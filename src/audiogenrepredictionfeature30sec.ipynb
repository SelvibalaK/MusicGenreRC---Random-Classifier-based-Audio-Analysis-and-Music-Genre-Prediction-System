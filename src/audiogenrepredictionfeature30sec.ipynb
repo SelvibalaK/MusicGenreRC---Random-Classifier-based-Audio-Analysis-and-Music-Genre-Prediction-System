{
 "cells": [
  {
   "cell_type": "code",
   "execution_count": 1,
   "id": "d457f6db",
   "metadata": {},
   "outputs": [],
   "source": [
    "import pandas as pd\n",
    "import numpy as np\n",
    "from sklearn.model_selection import train_test_split\n",
    "from sklearn.preprocessing import StandardScaler\n",
    "from sklearn.ensemble import RandomForestClassifier\n",
    "from sklearn.metrics import accuracy_score, classification_report\n",
    "import librosa"
   ]
  },
  {
   "cell_type": "code",
   "execution_count": 2,
   "id": "ed2545d5",
   "metadata": {},
   "outputs": [],
   "source": [
    "# Load the data\n",
    "df = pd.read_csv('D:/musicdata/Data/features_30_sec.csv')\n"
   ]
  },
  {
   "cell_type": "code",
   "execution_count": 3,
   "id": "2866cc0b",
   "metadata": {},
   "outputs": [],
   "source": [
    "# Define genres\n",
    "genres = ['blues', 'classical', 'country', 'disco', 'hiphop', 'jazz', 'metal', 'pop', 'reggae', 'rock']\n"
   ]
  },
  {
   "cell_type": "code",
   "execution_count": 4,
   "id": "4f799285",
   "metadata": {},
   "outputs": [],
   "source": [
    "# Prepare features and target\n",
    "X = df.drop(['filename', 'label'], axis=1)\n",
    "y = df['label']"
   ]
  },
  {
   "cell_type": "code",
   "execution_count": 5,
   "id": "daab2270",
   "metadata": {},
   "outputs": [],
   "source": [
    "# Split the data\n",
    "X_train, X_test, y_train, y_test = train_test_split(X, y, test_size=0.2, random_state=42)\n"
   ]
  },
  {
   "cell_type": "code",
   "execution_count": 6,
   "id": "84099b91",
   "metadata": {},
   "outputs": [],
   "source": [
    "# Scale the features\n",
    "scaler = StandardScaler()\n",
    "X_train_scaled = scaler.fit_transform(X_train)\n",
    "X_test_scaled = scaler.transform(X_test)\n"
   ]
  },
  {
   "cell_type": "code",
   "execution_count": 7,
   "id": "82de1580",
   "metadata": {},
   "outputs": [
    {
     "data": {
      "text/html": [
       "<style>#sk-container-id-1 {color: black;}#sk-container-id-1 pre{padding: 0;}#sk-container-id-1 div.sk-toggleable {background-color: white;}#sk-container-id-1 label.sk-toggleable__label {cursor: pointer;display: block;width: 100%;margin-bottom: 0;padding: 0.3em;box-sizing: border-box;text-align: center;}#sk-container-id-1 label.sk-toggleable__label-arrow:before {content: \"▸\";float: left;margin-right: 0.25em;color: #696969;}#sk-container-id-1 label.sk-toggleable__label-arrow:hover:before {color: black;}#sk-container-id-1 div.sk-estimator:hover label.sk-toggleable__label-arrow:before {color: black;}#sk-container-id-1 div.sk-toggleable__content {max-height: 0;max-width: 0;overflow: hidden;text-align: left;background-color: #f0f8ff;}#sk-container-id-1 div.sk-toggleable__content pre {margin: 0.2em;color: black;border-radius: 0.25em;background-color: #f0f8ff;}#sk-container-id-1 input.sk-toggleable__control:checked~div.sk-toggleable__content {max-height: 200px;max-width: 100%;overflow: auto;}#sk-container-id-1 input.sk-toggleable__control:checked~label.sk-toggleable__label-arrow:before {content: \"▾\";}#sk-container-id-1 div.sk-estimator input.sk-toggleable__control:checked~label.sk-toggleable__label {background-color: #d4ebff;}#sk-container-id-1 div.sk-label input.sk-toggleable__control:checked~label.sk-toggleable__label {background-color: #d4ebff;}#sk-container-id-1 input.sk-hidden--visually {border: 0;clip: rect(1px 1px 1px 1px);clip: rect(1px, 1px, 1px, 1px);height: 1px;margin: -1px;overflow: hidden;padding: 0;position: absolute;width: 1px;}#sk-container-id-1 div.sk-estimator {font-family: monospace;background-color: #f0f8ff;border: 1px dotted black;border-radius: 0.25em;box-sizing: border-box;margin-bottom: 0.5em;}#sk-container-id-1 div.sk-estimator:hover {background-color: #d4ebff;}#sk-container-id-1 div.sk-parallel-item::after {content: \"\";width: 100%;border-bottom: 1px solid gray;flex-grow: 1;}#sk-container-id-1 div.sk-label:hover label.sk-toggleable__label {background-color: #d4ebff;}#sk-container-id-1 div.sk-serial::before {content: \"\";position: absolute;border-left: 1px solid gray;box-sizing: border-box;top: 0;bottom: 0;left: 50%;z-index: 0;}#sk-container-id-1 div.sk-serial {display: flex;flex-direction: column;align-items: center;background-color: white;padding-right: 0.2em;padding-left: 0.2em;position: relative;}#sk-container-id-1 div.sk-item {position: relative;z-index: 1;}#sk-container-id-1 div.sk-parallel {display: flex;align-items: stretch;justify-content: center;background-color: white;position: relative;}#sk-container-id-1 div.sk-item::before, #sk-container-id-1 div.sk-parallel-item::before {content: \"\";position: absolute;border-left: 1px solid gray;box-sizing: border-box;top: 0;bottom: 0;left: 50%;z-index: -1;}#sk-container-id-1 div.sk-parallel-item {display: flex;flex-direction: column;z-index: 1;position: relative;background-color: white;}#sk-container-id-1 div.sk-parallel-item:first-child::after {align-self: flex-end;width: 50%;}#sk-container-id-1 div.sk-parallel-item:last-child::after {align-self: flex-start;width: 50%;}#sk-container-id-1 div.sk-parallel-item:only-child::after {width: 0;}#sk-container-id-1 div.sk-dashed-wrapped {border: 1px dashed gray;margin: 0 0.4em 0.5em 0.4em;box-sizing: border-box;padding-bottom: 0.4em;background-color: white;}#sk-container-id-1 div.sk-label label {font-family: monospace;font-weight: bold;display: inline-block;line-height: 1.2em;}#sk-container-id-1 div.sk-label-container {text-align: center;}#sk-container-id-1 div.sk-container {/* jupyter's `normalize.less` sets `[hidden] { display: none; }` but bootstrap.min.css set `[hidden] { display: none !important; }` so we also need the `!important` here to be able to override the default hidden behavior on the sphinx rendered scikit-learn.org. See: https://github.com/scikit-learn/scikit-learn/issues/21755 */display: inline-block !important;position: relative;}#sk-container-id-1 div.sk-text-repr-fallback {display: none;}</style><div id=\"sk-container-id-1\" class=\"sk-top-container\"><div class=\"sk-text-repr-fallback\"><pre>RandomForestClassifier(random_state=42)</pre><b>In a Jupyter environment, please rerun this cell to show the HTML representation or trust the notebook. <br />On GitHub, the HTML representation is unable to render, please try loading this page with nbviewer.org.</b></div><div class=\"sk-container\" hidden><div class=\"sk-item\"><div class=\"sk-estimator sk-toggleable\"><input class=\"sk-toggleable__control sk-hidden--visually\" id=\"sk-estimator-id-1\" type=\"checkbox\" checked><label for=\"sk-estimator-id-1\" class=\"sk-toggleable__label sk-toggleable__label-arrow\">RandomForestClassifier</label><div class=\"sk-toggleable__content\"><pre>RandomForestClassifier(random_state=42)</pre></div></div></div></div></div>"
      ],
      "text/plain": [
       "RandomForestClassifier(random_state=42)"
      ]
     },
     "execution_count": 7,
     "metadata": {},
     "output_type": "execute_result"
    }
   ],
   "source": [
    "# Train the model\n",
    "model = RandomForestClassifier(n_estimators=100, random_state=42)\n",
    "model.fit(X_train_scaled, y_train)"
   ]
  },
  {
   "cell_type": "code",
   "execution_count": 8,
   "id": "218ce70a",
   "metadata": {},
   "outputs": [
    {
     "name": "stdout",
     "output_type": "stream",
     "text": [
      "Model Accuracy: 0.76\n",
      "\n",
      "Classification Report:\n",
      "              precision    recall  f1-score   support\n",
      "\n",
      "       blues       0.63      0.85      0.72        20\n",
      "   classical       1.00      1.00      1.00        13\n",
      "     country       0.76      0.59      0.67        27\n",
      "       disco       0.83      0.71      0.77        21\n",
      "      hiphop       0.59      0.87      0.70        15\n",
      "        jazz       0.95      0.91      0.93        22\n",
      "       metal       0.86      0.96      0.91        25\n",
      "         pop       0.75      0.69      0.72        13\n",
      "      reggae       0.70      0.61      0.65        23\n",
      "        rock       0.56      0.48      0.51        21\n",
      "\n",
      "    accuracy                           0.76       200\n",
      "   macro avg       0.76      0.77      0.76       200\n",
      "weighted avg       0.76      0.76      0.75       200\n",
      "\n"
     ]
    }
   ],
   "source": [
    "# Evaluate the model\n",
    "y_pred = model.predict(X_test_scaled)\n",
    "accuracy = accuracy_score(y_test, y_pred)\n",
    "print(f\"Model Accuracy: {accuracy:.2f}\")\n",
    "print(\"\\nClassification Report:\")\n",
    "print(classification_report(y_test, y_pred, target_names=genres))"
   ]
  },
  {
   "cell_type": "code",
   "execution_count": 20,
   "id": "2b7f57b4",
   "metadata": {},
   "outputs": [],
   "source": [
    "def extract_features(file_path):\n",
    "    y, sr = librosa.load(file_path, duration=30)\n",
    "    features = {}\n",
    "    \n",
    "    # Spectral features\n",
    "    stft = np.abs(librosa.stft(y))\n",
    "    chroma_stft = librosa.feature.chroma_stft(y=y, sr=sr)\n",
    "    spec_cent = librosa.feature.spectral_centroid(y=y, sr=sr)\n",
    "    spec_bw = librosa.feature.spectral_bandwidth(y=y, sr=sr)\n",
    "    rolloff = librosa.feature.spectral_rolloff(y=y, sr=sr)\n",
    "    zcr = librosa.feature.zero_crossing_rate(y)\n",
    "    mfcc = librosa.feature.mfcc(y=y, sr=sr, n_mfcc=20)\n",
    "    rms = librosa.feature.rms(y=y)\n",
    "    \n",
    "    # Harmony and perceptr features\n",
    "    harmony, perceptr = librosa.effects.hpss(y)\n",
    "    \n",
    "    features['length'] = len(y)\n",
    "    features['chroma_stft_mean'] = np.mean(chroma_stft)\n",
    "    features['chroma_stft_var'] = np.var(chroma_stft)\n",
    "    features['rms_mean'] = np.mean(rms)\n",
    "    features['rms_var'] = np.var(rms)\n",
    "    features['spectral_centroid_mean'] = np.mean(spec_cent)\n",
    "    features['spectral_centroid_var'] = np.var(spec_cent)\n",
    "    features['spectral_bandwidth_mean'] = np.mean(spec_bw)\n",
    "    features['spectral_bandwidth_var'] = np.var(spec_bw)\n",
    "    features['rolloff_mean'] = np.mean(rolloff)\n",
    "    features['rolloff_var'] = np.var(rolloff)\n",
    "    features['zero_crossing_rate_mean'] = np.mean(zcr)\n",
    "    features['zero_crossing_rate_var'] = np.var(zcr)\n",
    "    features['harmony_mean'] = np.mean(harmony)\n",
    "    features['harmony_var'] = np.var(harmony)\n",
    "    features['perceptr_mean'] = np.mean(perceptr)\n",
    "    features['perceptr_var'] = np.var(perceptr)\n",
    "    features['tempo'] = librosa.beat.tempo(y=y, sr=sr)[0]\n",
    "    \n",
    "    for i in range(1, 21):\n",
    "        features[f'mfcc{i}_mean'] = np.mean(mfcc[i-1])\n",
    "        features[f'mfcc{i}_var'] = np.var(mfcc[i-1])\n",
    "    \n",
    "    return [features[column] for column in X.columns]"
   ]
  },
  {
   "cell_type": "code",
   "execution_count": 21,
   "id": "50652dd6",
   "metadata": {},
   "outputs": [],
   "source": [
    "def predict_genre(file_path):\n",
    "    # Extract features from the audio file\n",
    "    features = extract_features(file_path)\n",
    "    \n",
    "    # Scale the features\n",
    "    features_scaled = scaler.transform([features])\n",
    "    \n",
    "    # Predict the genre\n",
    "    prediction = model.predict(features_scaled)\n",
    "    probabilities = model.predict_proba(features_scaled)\n",
    "    \n",
    "    # Get the predicted genre and its probability\n",
    "    predicted_genre = prediction[0]\n",
    "    predicted_prob = max(probabilities[0])\n",
    "    \n",
    "    return predicted_genre, predicted_prob\n"
   ]
  },
  {
   "cell_type": "code",
   "execution_count": 22,
   "id": "2bc5e300",
   "metadata": {},
   "outputs": [
    {
     "name": "stdout",
     "output_type": "stream",
     "text": [
      "Predicted Genre: blues\n",
      "Confidence: 0.63\n"
     ]
    },
    {
     "name": "stderr",
     "output_type": "stream",
     "text": [
      "C:\\Users\\Selvibala\\AppData\\Local\\Temp\\ipykernel_11784\\1749949187.py:35: FutureWarning: librosa.beat.tempo\n",
      "\tThis function was moved to 'librosa.feature.rhythm.tempo' in librosa version 0.10.0.\n",
      "\tThis alias will be removed in librosa version 1.0.\n",
      "  features['tempo'] = librosa.beat.tempo(y=y, sr=sr)[0]\n",
      "C:\\Users\\Selvibala\\anaconda3\\Lib\\site-packages\\sklearn\\base.py:464: UserWarning: X does not have valid feature names, but StandardScaler was fitted with feature names\n",
      "  warnings.warn(\n"
     ]
    }
   ],
   "source": [
    "# Example usage\n",
    "audio_path = r'D:\\musicdata\\Data\\genres_original\\blues\\blues.00012.wav'\n",
    "predicted_genre, confidence = predict_genre(audio_path)\n",
    "print(f\"Predicted Genre: {predicted_genre}\")\n",
    "print(f\"Confidence: {confidence:.2f}\")"
   ]
  },
  {
   "cell_type": "code",
   "execution_count": 23,
   "id": "7c7b8ae9",
   "metadata": {},
   "outputs": [
    {
     "name": "stdout",
     "output_type": "stream",
     "text": [
      "Predicted Genre: classical\n",
      "Confidence: 0.84\n"
     ]
    },
    {
     "name": "stderr",
     "output_type": "stream",
     "text": [
      "C:\\Users\\Selvibala\\AppData\\Local\\Temp\\ipykernel_11784\\1749949187.py:35: FutureWarning: librosa.beat.tempo\n",
      "\tThis function was moved to 'librosa.feature.rhythm.tempo' in librosa version 0.10.0.\n",
      "\tThis alias will be removed in librosa version 1.0.\n",
      "  features['tempo'] = librosa.beat.tempo(y=y, sr=sr)[0]\n",
      "C:\\Users\\Selvibala\\anaconda3\\Lib\\site-packages\\sklearn\\base.py:464: UserWarning: X does not have valid feature names, but StandardScaler was fitted with feature names\n",
      "  warnings.warn(\n"
     ]
    }
   ],
   "source": [
    "# Example usage\n",
    "audio_path = r'D:\\musicdata\\Data\\genres_original\\classical\\classical.00013.wav'\n",
    "predicted_genre, confidence = predict_genre(audio_path)\n",
    "print(f\"Predicted Genre: {predicted_genre}\")\n",
    "print(f\"Confidence: {confidence:.2f}\")"
   ]
  },
  {
   "cell_type": "code",
   "execution_count": 24,
   "id": "f529de9e",
   "metadata": {},
   "outputs": [
    {
     "name": "stdout",
     "output_type": "stream",
     "text": [
      "Predicted Genre: reggae\n",
      "Confidence: 0.30\n"
     ]
    },
    {
     "name": "stderr",
     "output_type": "stream",
     "text": [
      "C:\\Users\\Selvibala\\AppData\\Local\\Temp\\ipykernel_11784\\1749949187.py:35: FutureWarning: librosa.beat.tempo\n",
      "\tThis function was moved to 'librosa.feature.rhythm.tempo' in librosa version 0.10.0.\n",
      "\tThis alias will be removed in librosa version 1.0.\n",
      "  features['tempo'] = librosa.beat.tempo(y=y, sr=sr)[0]\n",
      "C:\\Users\\Selvibala\\anaconda3\\Lib\\site-packages\\sklearn\\base.py:464: UserWarning: X does not have valid feature names, but StandardScaler was fitted with feature names\n",
      "  warnings.warn(\n"
     ]
    }
   ],
   "source": [
    "# Example usage\n",
    "audio_path = r'D:\\24h2-solo-200476.wav'\n",
    "predicted_genre, confidence = predict_genre(audio_path)\n",
    "print(f\"Predicted Genre: {predicted_genre}\")\n",
    "print(f\"Confidence: {confidence:.2f}\")"
   ]
  },
  {
   "cell_type": "code",
   "execution_count": 25,
   "id": "25a36d7d",
   "metadata": {},
   "outputs": [
    {
     "name": "stdout",
     "output_type": "stream",
     "text": [
      "Predicted Genre: blues\n",
      "Confidence: 0.23\n"
     ]
    },
    {
     "name": "stderr",
     "output_type": "stream",
     "text": [
      "C:\\Users\\Selvibala\\AppData\\Local\\Temp\\ipykernel_11784\\1749949187.py:35: FutureWarning: librosa.beat.tempo\n",
      "\tThis function was moved to 'librosa.feature.rhythm.tempo' in librosa version 0.10.0.\n",
      "\tThis alias will be removed in librosa version 1.0.\n",
      "  features['tempo'] = librosa.beat.tempo(y=y, sr=sr)[0]\n",
      "C:\\Users\\Selvibala\\anaconda3\\Lib\\site-packages\\sklearn\\base.py:464: UserWarning: X does not have valid feature names, but StandardScaler was fitted with feature names\n",
      "  warnings.warn(\n"
     ]
    }
   ],
   "source": [
    "# Example usage\n",
    "audio_path = r'D:\\musicdata\\Data\\genres_original\\country\\country.00059.wav'\n",
    "predicted_genre, confidence = predict_genre(audio_path)\n",
    "print(f\"Predicted Genre: {predicted_genre}\")\n",
    "print(f\"Confidence: {confidence:.2f}\")"
   ]
  },
  {
   "cell_type": "code",
   "execution_count": 26,
   "id": "12235be7",
   "metadata": {},
   "outputs": [
    {
     "name": "stdout",
     "output_type": "stream",
     "text": [
      "Predicted Genre: disco\n",
      "Confidence: 0.85\n"
     ]
    },
    {
     "name": "stderr",
     "output_type": "stream",
     "text": [
      "C:\\Users\\Selvibala\\AppData\\Local\\Temp\\ipykernel_11784\\1749949187.py:35: FutureWarning: librosa.beat.tempo\n",
      "\tThis function was moved to 'librosa.feature.rhythm.tempo' in librosa version 0.10.0.\n",
      "\tThis alias will be removed in librosa version 1.0.\n",
      "  features['tempo'] = librosa.beat.tempo(y=y, sr=sr)[0]\n",
      "C:\\Users\\Selvibala\\anaconda3\\Lib\\site-packages\\sklearn\\base.py:464: UserWarning: X does not have valid feature names, but StandardScaler was fitted with feature names\n",
      "  warnings.warn(\n"
     ]
    }
   ],
   "source": [
    "# Example usage\n",
    "audio_path = r'D:\\musicdata\\Data\\genres_original\\disco\\disco.00066.wav'\n",
    "predicted_genre, confidence = predict_genre(audio_path)\n",
    "print(f\"Predicted Genre: {predicted_genre}\")\n",
    "print(f\"Confidence: {confidence:.2f}\")"
   ]
  },
  {
   "cell_type": "code",
   "execution_count": 27,
   "id": "7d38996b",
   "metadata": {},
   "outputs": [
    {
     "name": "stdout",
     "output_type": "stream",
     "text": [
      "Predicted Genre: hiphop\n",
      "Confidence: 0.50\n"
     ]
    },
    {
     "name": "stderr",
     "output_type": "stream",
     "text": [
      "C:\\Users\\Selvibala\\AppData\\Local\\Temp\\ipykernel_11784\\1749949187.py:35: FutureWarning: librosa.beat.tempo\n",
      "\tThis function was moved to 'librosa.feature.rhythm.tempo' in librosa version 0.10.0.\n",
      "\tThis alias will be removed in librosa version 1.0.\n",
      "  features['tempo'] = librosa.beat.tempo(y=y, sr=sr)[0]\n",
      "C:\\Users\\Selvibala\\anaconda3\\Lib\\site-packages\\sklearn\\base.py:464: UserWarning: X does not have valid feature names, but StandardScaler was fitted with feature names\n",
      "  warnings.warn(\n"
     ]
    }
   ],
   "source": [
    "# Example usage\n",
    "audio_path = r'D:\\musicdata\\Data\\genres_original\\hiphop\\hiphop.00091.wav'\n",
    "predicted_genre, confidence = predict_genre(audio_path)\n",
    "print(f\"Predicted Genre: {predicted_genre}\")\n",
    "print(f\"Confidence: {confidence:.2f}\")"
   ]
  },
  {
   "cell_type": "code",
   "execution_count": 28,
   "id": "c5d0f22c",
   "metadata": {},
   "outputs": [
    {
     "name": "stdout",
     "output_type": "stream",
     "text": [
      "Predicted Genre: jazz\n",
      "Confidence: 0.33\n"
     ]
    },
    {
     "name": "stderr",
     "output_type": "stream",
     "text": [
      "C:\\Users\\Selvibala\\AppData\\Local\\Temp\\ipykernel_11784\\1749949187.py:35: FutureWarning: librosa.beat.tempo\n",
      "\tThis function was moved to 'librosa.feature.rhythm.tempo' in librosa version 0.10.0.\n",
      "\tThis alias will be removed in librosa version 1.0.\n",
      "  features['tempo'] = librosa.beat.tempo(y=y, sr=sr)[0]\n",
      "C:\\Users\\Selvibala\\anaconda3\\Lib\\site-packages\\sklearn\\base.py:464: UserWarning: X does not have valid feature names, but StandardScaler was fitted with feature names\n",
      "  warnings.warn(\n"
     ]
    }
   ],
   "source": [
    "# Example usage\n",
    "audio_path = r'D:\\musicdata\\Data\\genres_original\\jazz\\jazz.00085.wav'\n",
    "predicted_genre, confidence = predict_genre(audio_path)\n",
    "print(f\"Predicted Genre: {predicted_genre}\")\n",
    "print(f\"Confidence: {confidence:.2f}\")"
   ]
  },
  {
   "cell_type": "code",
   "execution_count": 29,
   "id": "e01de44b",
   "metadata": {},
   "outputs": [
    {
     "name": "stdout",
     "output_type": "stream",
     "text": [
      "Predicted Genre: metal\n",
      "Confidence: 0.83\n"
     ]
    },
    {
     "name": "stderr",
     "output_type": "stream",
     "text": [
      "C:\\Users\\Selvibala\\AppData\\Local\\Temp\\ipykernel_11784\\1749949187.py:35: FutureWarning: librosa.beat.tempo\n",
      "\tThis function was moved to 'librosa.feature.rhythm.tempo' in librosa version 0.10.0.\n",
      "\tThis alias will be removed in librosa version 1.0.\n",
      "  features['tempo'] = librosa.beat.tempo(y=y, sr=sr)[0]\n",
      "C:\\Users\\Selvibala\\anaconda3\\Lib\\site-packages\\sklearn\\base.py:464: UserWarning: X does not have valid feature names, but StandardScaler was fitted with feature names\n",
      "  warnings.warn(\n"
     ]
    }
   ],
   "source": [
    "# Example usage\n",
    "audio_path = r'D:\\musicdata\\Data\\genres_original\\metal\\metal.00077.wav'\n",
    "predicted_genre, confidence = predict_genre(audio_path)\n",
    "print(f\"Predicted Genre: {predicted_genre}\")\n",
    "print(f\"Confidence: {confidence:.2f}\")"
   ]
  },
  {
   "cell_type": "code",
   "execution_count": 30,
   "id": "b97c35bb",
   "metadata": {},
   "outputs": [
    {
     "name": "stdout",
     "output_type": "stream",
     "text": [
      "Predicted Genre: pop\n",
      "Confidence: 0.76\n"
     ]
    },
    {
     "name": "stderr",
     "output_type": "stream",
     "text": [
      "C:\\Users\\Selvibala\\AppData\\Local\\Temp\\ipykernel_11784\\1749949187.py:35: FutureWarning: librosa.beat.tempo\n",
      "\tThis function was moved to 'librosa.feature.rhythm.tempo' in librosa version 0.10.0.\n",
      "\tThis alias will be removed in librosa version 1.0.\n",
      "  features['tempo'] = librosa.beat.tempo(y=y, sr=sr)[0]\n",
      "C:\\Users\\Selvibala\\anaconda3\\Lib\\site-packages\\sklearn\\base.py:464: UserWarning: X does not have valid feature names, but StandardScaler was fitted with feature names\n",
      "  warnings.warn(\n"
     ]
    }
   ],
   "source": [
    "# Example usage\n",
    "audio_path = r'D:\\musicdata\\Data\\genres_original\\pop\\pop.00063.wav'\n",
    "predicted_genre, confidence = predict_genre(audio_path)\n",
    "print(f\"Predicted Genre: {predicted_genre}\")\n",
    "print(f\"Confidence: {confidence:.2f}\")"
   ]
  },
  {
   "cell_type": "code",
   "execution_count": 31,
   "id": "4eca202b",
   "metadata": {},
   "outputs": [
    {
     "name": "stdout",
     "output_type": "stream",
     "text": [
      "Predicted Genre: reggae\n",
      "Confidence: 0.57\n"
     ]
    },
    {
     "name": "stderr",
     "output_type": "stream",
     "text": [
      "C:\\Users\\Selvibala\\AppData\\Local\\Temp\\ipykernel_11784\\1749949187.py:35: FutureWarning: librosa.beat.tempo\n",
      "\tThis function was moved to 'librosa.feature.rhythm.tempo' in librosa version 0.10.0.\n",
      "\tThis alias will be removed in librosa version 1.0.\n",
      "  features['tempo'] = librosa.beat.tempo(y=y, sr=sr)[0]\n",
      "C:\\Users\\Selvibala\\anaconda3\\Lib\\site-packages\\sklearn\\base.py:464: UserWarning: X does not have valid feature names, but StandardScaler was fitted with feature names\n",
      "  warnings.warn(\n"
     ]
    }
   ],
   "source": [
    "# Example usage\n",
    "audio_path = r'D:\\musicdata\\Data\\genres_original\\reggae\\reggae.00024.wav'\n",
    "predicted_genre, confidence = predict_genre(audio_path)\n",
    "print(f\"Predicted Genre: {predicted_genre}\")\n",
    "print(f\"Confidence: {confidence:.2f}\")"
   ]
  },
  {
   "cell_type": "code",
   "execution_count": 35,
   "id": "03c70ece",
   "metadata": {},
   "outputs": [
    {
     "name": "stdout",
     "output_type": "stream",
     "text": [
      "Predicted Genre: metal\n",
      "Confidence: 0.60\n"
     ]
    },
    {
     "name": "stderr",
     "output_type": "stream",
     "text": [
      "C:\\Users\\Selvibala\\AppData\\Local\\Temp\\ipykernel_11784\\1749949187.py:35: FutureWarning: librosa.beat.tempo\n",
      "\tThis function was moved to 'librosa.feature.rhythm.tempo' in librosa version 0.10.0.\n",
      "\tThis alias will be removed in librosa version 1.0.\n",
      "  features['tempo'] = librosa.beat.tempo(y=y, sr=sr)[0]\n",
      "C:\\Users\\Selvibala\\anaconda3\\Lib\\site-packages\\sklearn\\base.py:464: UserWarning: X does not have valid feature names, but StandardScaler was fitted with feature names\n",
      "  warnings.warn(\n"
     ]
    }
   ],
   "source": [
    "# Example usage\n",
    "audio_path = r'D:\\musicdata\\Data\\genres_original\\rock\\rock.00017.wav'\n",
    "predicted_genre, confidence = predict_genre(audio_path)\n",
    "print(f\"Predicted Genre: {predicted_genre}\")\n",
    "print(f\"Confidence: {confidence:.2f}\")"
   ]
  },
  {
   "cell_type": "code",
   "execution_count": null,
   "id": "4ecc5932",
   "metadata": {},
   "outputs": [],
   "source": []
  }
 ],
 "metadata": {
  "kernelspec": {
   "display_name": "Python 3 (ipykernel)",
   "language": "python",
   "name": "python3"
  },
  "language_info": {
   "codemirror_mode": {
    "name": "ipython",
    "version": 3
   },
   "file_extension": ".py",
   "mimetype": "text/x-python",
   "name": "python",
   "nbconvert_exporter": "python",
   "pygments_lexer": "ipython3",
   "version": "3.8.20"
  }
 },
 "nbformat": 4,
 "nbformat_minor": 5
}
